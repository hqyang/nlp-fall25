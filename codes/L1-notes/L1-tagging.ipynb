{
 "cells": [
  {
   "cell_type": "markdown",
   "id": "2f2b5579",
   "metadata": {},
   "source": [
    "This is an example to show the results of POS tagging by NLTK and spaCy "
   ]
  },
  {
   "cell_type": "code",
   "execution_count": 2,
   "id": "732ac5c0",
   "metadata": {},
   "outputs": [
    {
     "name": "stdout",
     "output_type": "stream",
     "text": [
      "NLTK pos results::\n",
      "Natural: JJ\n",
      "Language: NNP\n",
      "Processing: NN\n"
     ]
    },
    {
     "name": "stderr",
     "output_type": "stream",
     "text": [
      "[nltk_data] Downloading package punkt to /Users/hqyang/nltk_data...\n",
      "[nltk_data]   Package punkt is already up-to-date!\n",
      "[nltk_data] Downloading package averaged_perceptron_tagger to\n",
      "[nltk_data]     /Users/hqyang/nltk_data...\n",
      "[nltk_data]   Package averaged_perceptron_tagger is already up-to-\n",
      "[nltk_data]       date!\n"
     ]
    }
   ],
   "source": [
    "# NLTK POS tagging\n",
    "import nltk\n",
    "from nltk.tokenize import word_tokenize\n",
    "\n",
    "nltk.download('punkt')\n",
    "nltk.download('averaged_perceptron_tagger')\n",
    "\n",
    "def nltk_pos_tag(text):\n",
    "    # 分词\n",
    "    tokens = word_tokenize(text)\n",
    "    # 词性标注\n",
    "    pos_tags = nltk.pos_tag(tokens)\n",
    "    return pos_tags\n",
    "\n",
    "text = \"This is a simple sentence\"\n",
    "text = \"Natural Language Processing\"\n",
    "\n",
    "nltk_result = nltk_pos_tag(text)\n",
    "print(\"NLTK pos results::\")\n",
    "for word, tag in nltk_result:\n",
    "    print(f\"{word}: {tag}\")"
   ]
  },
  {
   "cell_type": "code",
   "execution_count": 3,
   "id": "da747b43",
   "metadata": {},
   "outputs": [
    {
     "name": "stdout",
     "output_type": "stream",
     "text": [
      "\n",
      "spaCy词性标注结果:\n",
      "(单词: 通用词性, 详细词性标签)\n",
      "Natural: PROPN, NNP\n",
      "Language: PROPN, NNP\n",
      "Processing: NOUN, NN\n"
     ]
    }
   ],
   "source": [
    "# spaCy POS tagging\n",
    "import spacy\n",
    "\n",
    "# 加载英文模型（首次运行需要下载，使用命令: python -m spacy download en_core_web_sm）\n",
    "nlp = spacy.load(\"en_core_web_sm\")\n",
    "\n",
    "def spacy_pos_tag(text):\n",
    "    doc = nlp(text)\n",
    "    # 提取单词和词性\n",
    "    pos_tags = [(token.text, token.pos_, token.tag_) for token in doc]\n",
    "    return pos_tags\n",
    "\n",
    "spacy_result = spacy_pos_tag(text)\n",
    "print(\"\\nspaCy词性标注结果:\")\n",
    "print(\"(单词: 通用词性, 详细词性标签)\")\n",
    "for word, pos, tag in spacy_result:\n",
    "    print(f\"{word}: {pos}, {tag}\")"
   ]
  }
 ],
 "metadata": {
  "kernelspec": {
   "display_name": "py39",
   "language": "python",
   "name": "python3"
  },
  "language_info": {
   "codemirror_mode": {
    "name": "ipython",
    "version": 3
   },
   "file_extension": ".py",
   "mimetype": "text/x-python",
   "name": "python",
   "nbconvert_exporter": "python",
   "pygments_lexer": "ipython3",
   "version": "3.9.0"
  }
 },
 "nbformat": 4,
 "nbformat_minor": 5
}
